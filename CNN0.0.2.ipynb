{
 "cells": [
  {
   "cell_type": "code",
   "execution_count": null,
   "metadata": {
    "collapsed": true
   },
   "outputs": [],
   "source": [
    "import time\n",
    "import cv2\n",
    "import numpy as np\n",
    "from sklearn.model_selection import train_test_split\n",
    "import pandas as pd\n",
    "import lasagne\n",
    "import theano\n",
    "import theano.tensor as T\n",
    "from PIL import Image"
   ]
  },
  {
   "cell_type": "code",
   "execution_count": null,
   "metadata": {
    "collapsed": true
   },
   "outputs": [],
   "source": [
    "def table(x, y):\n",
    "    tab={'TP':len([tp for tp in zip(x, y) if tp[0]==1 and tp[1]==1]),\n",
    "        'FP':len([fp for fp in zip(x, y) if fp[0]==1 and fp[1]==0]),\n",
    "        'FN':len([fn for fn in zip(x, y) if fn[0]==0 and fn[1]==1]),\n",
    "        'TN':len([tn for tn in zip(x, y) if tn[0]==0 and tn[1]==0])}\n",
    "    return tab\n",
    "\n",
    "def mat_corr(tab):\n",
    "    a = tab['TP']*tab['TN'] - tab['FN']*tab['FP']\n",
    "    if a == 0.0:\n",
    "        return 0\n",
    "    b = ((tab['TP']+tab['FN'])*(tab['TP']+tab['FP'])*(tab['TN']+tab['FP'])*(tab['TN']+tab['FN']))**0.5\n",
    "    return a/b\n",
    "\n",
    "def load_data_NN(filename=None, rand_st=42):\n",
    "    df = pd.read_csv(filename, sep=';')\n",
    "    X, y = np.array(df.image), np.array(df.label)\n",
    "    X_train, X_test, y_train, y_test = train_test_split(X, y, test_size = 0.2)\n",
    "    return X_train, y_train, X_test, y_test\n",
    "\n",
    "def iterate_minibatches(inputs, targets, batchsize, shuffle=False):\n",
    "    assert len(inputs) == len(targets)\n",
    "    if shuffle:\n",
    "        indices = np.arange(len(inputs))\n",
    "        np.random.shuffle(indices)\n",
    "    for start_idx in range(0, len(inputs) - batchsize + 1, batchsize):\n",
    "        if shuffle:\n",
    "            excerpt = indices[start_idx:start_idx + batchsize]\n",
    "        else:\n",
    "            excerpt = slice(start_idx, start_idx + batchsize)\n",
    "        yield inputs[excerpt], targets[excerpt]"
   ]
  },
  {
   "cell_type": "code",
   "execution_count": null,
   "metadata": {
    "collapsed": true
   },
   "outputs": [],
   "source": [
    "def build_cnn(input_var=None, dropout=False):\n",
    "    network = lasagne.layers.InputLayer(shape=(None, 1, 100, 100), input_var=input_var)\n",
    "    \n",
    "    network = lasagne.layers.batch_norm(lasagne.layers.Conv2DLayer(network, num_filters=16, filter_size=(3,3),\n",
    "                                        nonlinearity=lasagne.nonlinearities.leaky_rectify,\n",
    "                                        W=lasagne.init.Normal()))\n",
    "    network = network = lasagne.layers.MaxPool2DLayer(network, pool_size=(2, 2))\n",
    "    network = lasagne.layers.batch_norm(lasagne.layers.Conv2DLayer(network, num_filters=32, filter_size=(3,3),\n",
    "                                        nonlinearity=lasagne.nonlinearities.leaky_rectify,\n",
    "                                        W=lasagne.init.Normal()))\n",
    "    network = lasagne.layers.batch_norm(lasagne.layers.Conv2DLayer(network, num_filters=32, filter_size=(3,3),\n",
    "                                        nonlinearity=lasagne.nonlinearities.leaky_rectify,\n",
    "                                        W=lasagne.init.Normal()))\n",
    "    network = lasagne.layers.MaxPool2DLayer(network, pool_size=(2, 2))\n",
    "    \n",
    "    network = lasagne.layers.batch_norm(lasagne.layers.Conv2DLayer(network, num_filters=64, filter_size=(3,3),\n",
    "                                        nonlinearity=lasagne.nonlinearities.leaky_rectify,\n",
    "                                        W=lasagne.init.Normal()))\n",
    "    network = lasagne.layers.MaxPool2DLayer(network, pool_size=(2, 2))\n",
    "    \n",
    "    if dropout:\n",
    "        network = lasagne.layers.dropout(network, p=0.5)\n",
    "        \n",
    "    network = lasagne.layers.batch_norm(lasagne.layers.DenseLayer(network, \n",
    "                                        num_units=32,\n",
    "                                        nonlinearity=lasagne.nonlinearities.leaky_rectify,\n",
    "                                        W=lasagne.init.Normal()))\n",
    "    if dropout:\n",
    "        network = lasagne.layers.dropout(network, p=0.5)\n",
    "    \n",
    "    network = lasagne.layers.DenseLayer(network,\n",
    "                                        num_units=1,\n",
    "                                        nonlinearity=lasagne.nonlinearities.sigmoid)\n",
    "    return network"
   ]
  },
  {
   "cell_type": "code",
   "execution_count": null,
   "metadata": {
    "collapsed": true
   },
   "outputs": [],
   "source": [
    "print('Loading data...')\n",
    "X_train, y_train, X_val, y_val = load_data_NN('data100.csv')\n",
    "T_loss = []\n",
    "V_loss = []\n",
    "Cor1 = []\n",
    "Cor2 = []\n",
    "\n",
    "input_var = T.tensor4('inputs')\n",
    "target_var = T.ivector('targets')\n",
    "\n",
    "print(\"Building model and compiling functions...\")\n",
    "network = build_cnn(input_var, dropout=True)\n",
    "#layers = lasagne.layers.get_all_layers(network)\n",
    "#l_reg1 = layers[13]\n",
    "#l_reg2 = layers[-1]\n",
    "#l2_pen1 = lasagne.regularization.regularize_layer_params(l_reg1, lasagne.regularization.l2)*0.01\n",
    "#l2_pen2 = lasagne.regularization.regularize_layer_params(l_reg2, lasagne.regularization.l2)*0.01\n",
    "prediction = lasagne.layers.get_output(network)\n",
    "loss = lasagne.objectives.binary_crossentropy(prediction, target_var)\n",
    "loss = loss.mean()# + l2_pen1 + l2_pen2\n",
    "params = lasagne.layers.get_all_params(network, trainable=True)\n",
    "updates = lasagne.updates.adam(loss, params, learning_rate=0.001)\n",
    "\n",
    "test_prediction = lasagne.layers.get_output(network, deterministic=True)\n",
    "test_loss = lasagne.objectives.binary_crossentropy(test_prediction, target_var)\n",
    "test_loss = test_loss.mean()\n",
    "\n",
    "train_fn = theano.function([input_var, target_var], loss, updates=updates)\n",
    "\n",
    "val_fn = theano.function([input_var, target_var], test_loss)\n",
    "f = theano.function([input_var], test_prediction)\n",
    "\n",
    "print(\"Starting training...\")\n",
    "\n",
    "num_epochs = 300\n",
    "for epoch in range(num_epochs):\n",
    "    train_err = 0\n",
    "    train_batches = 0\n",
    "    start_time = time.time()\n",
    "    for batch in iterate_minibatches(X_train, y_train, 20, shuffle=True):\n",
    "        inputs, targets = batch\n",
    "        targets = np.array(targets, dtype=np.int32)\n",
    "        inputs = np.array([np.array(Image.open(image).convert('L')) for image in inputs])\n",
    "        inputs = inputs.reshape(-1, 1, 100, 100)\n",
    "        inputs = inputs / np.float32(255)\n",
    "        train_err += train_fn(inputs, targets)\n",
    "        train_batches += 1\n",
    "        \n",
    "    val_err = 0\n",
    "    val_batches = 0\n",
    "    mat_corr1 = 0.0\n",
    "    mat_corr2 = 0.0\n",
    "    for batch in iterate_minibatches(X_val, y_val, 20, shuffle=False):\n",
    "        inputs, targets = batch\n",
    "        targets = np.array(targets, dtype=np.int32)\n",
    "        inputs = np.array([np.array(Image.open(image).convert('L')) for image in inputs])\n",
    "        inputs = inputs.reshape(-1, 1, 100, 100)\n",
    "        inputs = inputs / np.float32(255)\n",
    "        err = val_fn(inputs, targets)\n",
    "        val_err += err\n",
    "        val_batches += 1\n",
    "        arr1 = np.array(f(inputs).ravel() > 0.5, dtype=np.int32)\n",
    "        arr2 = np.array(f(inputs).ravel() > 0.8, dtype=np.int32)\n",
    "        tab1 = table(arr1, targets)\n",
    "        tab2 = table(arr2, targets)\n",
    "        mat_corr1 += mat_corr(tab1)\n",
    "        mat_corr2 += mat_corr(tab2)\n",
    "        \n",
    "    T_loss.append(train_err / train_batches)\n",
    "    V_loss.append(val_err / val_batches)\n",
    "    Cor1.append(mat_corr1 / val_batches)\n",
    "    Cor2.append(mat_corr2 / val_batches)\n",
    "    \n",
    "    print(\"Epoch {} of {} took {:.3f}s\".format(epoch + 1, num_epochs, time.time() - start_time))\n",
    "    print(\"  training loss:\\t\\t{:.6f}\".format(T_loss[-1]))\n",
    "    print(\"  validation loss:\\t\\t{:.6f}\".format(V_loss[-1]))\n",
    "    print('  Mat_corr_1:\\t{:.6f}'.format(Cor1[-1]))\n",
    "    print('  Mat_corr_2:\\t{:.6f}'.format(Cor2[-1]))"
   ]
  },
  {
   "cell_type": "code",
   "execution_count": null,
   "metadata": {
    "collapsed": true
   },
   "outputs": [],
   "source": [
    "np.savez('model1.npz', *lasagne.layers.get_all_param_values(network))\n",
    "L = [T_loss, V_loss, Cor1, Cor2]\n",
    "with open('info_train1', 'wb') as f:\n",
    "    pickle.dump(L, f, pickle.HIGHEST_PROTOCOL)"
   ]
  },
  {
   "cell_type": "code",
   "execution_count": null,
   "metadata": {
    "collapsed": true
   },
   "outputs": [],
   "source": [
    "from matplotlib import pyplot as plt\n",
    "%matplotlib inline\n",
    "plt.figure(figsize=(10,5))\n",
    "plt.subplot(121)\n",
    "plt.plot(np.arange(0,len(T_loss)), T_loss, label='T_loss')\n",
    "plt.plot(np.arange(0,len(V_loss)), V_loss, label='V_loss')\n",
    "plt.legend()\n",
    "plt.subplot(122)\n",
    "plt.plot(np.arange(0,len(Cor1)), Cor1, label='>0.5')\n",
    "plt.plot(np.arange(0,len(Cor2)), Cor2, label='>0.8')\n",
    "plt.legend()"
   ]
  },
  {
   "cell_type": "code",
   "execution_count": null,
   "metadata": {
    "collapsed": true
   },
   "outputs": [],
   "source": [
    "input_var = T.tensor4('inputs')\n",
    "network = build_cnn(input_var)\n",
    "with np.load('model1.npz') as f:\n",
    "    param_values = [f['arr_%d' % i] for i in range(len(f.files))]\n",
    "    lasagne.layers.set_all_param_values(network, param_values)\n",
    "out = theano.function([input_var], lasagne.layers.get_output(network, deterministic=True))"
   ]
  },
  {
   "cell_type": "code",
   "execution_count": null,
   "metadata": {
    "collapsed": true
   },
   "outputs": [],
   "source": [
    "cap = cv2.VideoCapture(0)\n",
    "cap.set(cv2.CAP_PROP_FRAME_HEIGHT,640)\n",
    "cap.set(cv2.CAP_PROP_FRAME_WIDTH, 480)\n",
    "cap.set(cv2.CAP_PROP_FPS, 60)\n",
    "while(True):\n",
    "    # Capture frame-by-frame\n",
    "    ret, frame = cap.read()\n",
    "    frame = cv2.flip(frame, 1)\n",
    "    # Our operations on the frame come here\n",
    "    gray = cv2.cvtColor(frame, cv2.COLOR_BGR2GRAY)\n",
    "    im  = Image.fromarray(gray)\n",
    "    im = np.array(im.resize((100,100), Image.ANTIALIAS)) / np.float32(255)\n",
    "    im = im.reshape(-1, 1, 100, 100)\n",
    "    predict = out(im).ravel()[0]\n",
    "    print(predict)\n",
    "    if predict > 0.5:\n",
    "        gray = cv2.putText(gray, 'YES', (150,150), cv2.FONT_HERSHEY_SIMPLEX, 10, 255, 10)\n",
    "    else:\n",
    "        gray = cv2.putText(gray, 'NO', (150,150), cv2.FONT_HERSHEY_SIMPLEX, 10, 255, 10)\n",
    "    # Display the resulting frame\n",
    "    cv2.imshow('frame',gray)\n",
    "    if cv2.waitKey(1) & 0xFF == ord('q'):\n",
    "        break\n",
    "\n",
    "# When everything done, release the capture\n",
    "cap.release()\n",
    "cv2.destroyAllWindows()"
   ]
  }
 ],
 "metadata": {
  "kernelspec": {
   "display_name": "Python 3",
   "language": "python",
   "name": "python3"
  },
  "language_info": {
   "codemirror_mode": {
    "name": "ipython",
    "version": 3
   },
   "file_extension": ".py",
   "mimetype": "text/x-python",
   "name": "python",
   "nbconvert_exporter": "python",
   "pygments_lexer": "ipython3",
   "version": "3.5.3"
  }
 },
 "nbformat": 4,
 "nbformat_minor": 2
}
